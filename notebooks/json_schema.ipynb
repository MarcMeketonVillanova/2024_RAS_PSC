{
 "cells": [
  {
   "cell_type": "code",
   "execution_count": 1,
   "metadata": {},
   "outputs": [],
   "source": [
    "import json\n",
    "from jsonschema import validate, Draft202012Validator"
   ]
  },
  {
   "cell_type": "markdown",
   "metadata": {},
   "source": [
    "# Problem Description\n",
    "\n",
    "Read in the schema and an example for the problem inputs and validate that the problem inputs matches the schema"
   ]
  },
  {
   "cell_type": "code",
   "execution_count": 2,
   "metadata": {},
   "outputs": [
    {
     "data": {
      "text/plain": [
       "{'$schema': 'https://json-schema.org/draft/2020-12/schema',\n",
       " '$id': 'file:///c:',\n",
       " 'title': 'RAS 2024 Problem Solving Competition - problem schema',\n",
       " 'type': 'object',\n",
       " 'properties': {'problem_name': {'type': 'string'},\n",
       "  'yard_type': {'enum': ['through', 'stub']},\n",
       "  'parameters': {'type': 'object',\n",
       "   'properties': {'alpha_a': {'type': 'number'},\n",
       "    'alpha_d': {'type': 'number'},\n",
       "    'beta_a': {'type': 'number'},\n",
       "    'beta_d': {'type': 'number'},\n",
       "    'track_speed_kph': {'type': 'number'},\n",
       "    'ladder_speed_kph': {'type': 'number'},\n",
       "    'wagon_length_m': {'type': 'number'}},\n",
       "   'required': ['alpha_a',\n",
       "    'alpha_d',\n",
       "    'beta_a',\n",
       "    'beta_d',\n",
       "    'track_speed_kph',\n",
       "    'ladder_speed_kph',\n",
       "    'wagon_length_m']},\n",
       "  'track_lengths_m': {'type': 'array', 'items': {'type': 'number'}},\n",
       "  'left_lead_m': {'type': 'number'},\n",
       "  'right_lead_m': {'type': 'number', 'default': 0},\n",
       "  'track_occupancies': {'type': 'object',\n",
       "   'additionalProperties': {'type': 'array', 'items': {'type': 'integer'}},\n",
       "   'propertyNames': {'type': 'string'}},\n",
       "  'desired_block_order': {'type': 'array', 'items': {'type': 'integer'}},\n",
       "  'other_blocks_to_form': {'type': 'array', 'items': {'type': 'integer'}}},\n",
       " 'required': ['problem_name',\n",
       "  'yard_type',\n",
       "  'parameters',\n",
       "  'track_lengths_m',\n",
       "  'left_lead_m',\n",
       "  'right_lead_m',\n",
       "  'track_occupancies',\n",
       "  'desired_block_order',\n",
       "  'other_blocks_to_form']}"
      ]
     },
     "execution_count": 2,
     "metadata": {},
     "output_type": "execute_result"
    }
   ],
   "source": [
    "with open('../JSON_schemas/input_problem_schema.json', 'r') as input_problem_schema_file:\n",
    "    input_problem_schema = json.load(input_problem_schema_file)\n",
    "input_problem_schema"
   ]
  },
  {
   "cell_type": "code",
   "execution_count": 5,
   "metadata": {},
   "outputs": [
    {
     "data": {
      "text/plain": [
       "{'problem_name': 'Example 1',\n",
       " 'yard_type': 'stub',\n",
       " 'parameters': {'alpha_a': 6750,\n",
       "  'alpha_d': 6750,\n",
       "  'beta_a': 292.5,\n",
       "  'beta_d': 225,\n",
       "  'track_speed_kph': 16,\n",
       "  'ladder_speed_kph': 10,\n",
       "  'wagon_length_m': 15},\n",
       " 'track_lengths_m': [2000, 1900, 1800, 1700, 500],\n",
       " 'left_lead_m': 2000,\n",
       " 'right_lead_m': 0,\n",
       " 'track_occupancies': {'1': [1, 1, 2, 2, 0, 4], '2': [2, 0, 4, 0, 1]},\n",
       " 'desired_block_order': [0, 2, 1, 4],\n",
       " 'other_blocks_to_form': []}"
      ]
     },
     "execution_count": 5,
     "metadata": {},
     "output_type": "execute_result"
    }
   ],
   "source": [
    "with open('../input_problem_data/example_1_inputs.json') as example_1_inputs_file:\n",
    "    example_1_data = json.load(example_1_inputs_file)\n",
    "example_1_data"
   ]
  },
  {
   "cell_type": "code",
   "execution_count": 6,
   "metadata": {},
   "outputs": [
    {
     "name": "stdout",
     "output_type": "stream",
     "text": [
      "data is valid for schema\n"
     ]
    }
   ],
   "source": [
    "schema_validator = Draft202012Validator(schema=input_problem_schema)\n",
    "if schema_validator.is_valid(instance=example_1_data):\n",
    "    print('data is valid for schema')\n",
    "else:\n",
    "    for error in schema_validator.iter_errors(instance=example_1_data):\n",
    "        print(error.message)"
   ]
  },
  {
   "cell_type": "markdown",
   "metadata": {},
   "source": [
    "# Solution\n",
    "\n",
    "Read in the schema for the solution and an example solution and validate the format is correct"
   ]
  },
  {
   "cell_type": "code",
   "execution_count": 5,
   "metadata": {},
   "outputs": [
    {
     "data": {
      "text/plain": [
       "{'$schema': 'https://json-schema.org/draft/2020-12/schema',\n",
       " '$id': 'file:///c:',\n",
       " 'title': 'RAS 2024 Problem Solving Competition - solution schema',\n",
       " 'type': 'object',\n",
       " 'properties': {'movement': {'enum': ['push', 'pull', 'switch_sides']},\n",
       "  'num_wagons': {'type': 'integer'},\n",
       "  'track': {'type': 'integer'}}}"
      ]
     },
     "execution_count": 5,
     "metadata": {},
     "output_type": "execute_result"
    }
   ],
   "source": [
    "with open('../JSON_schemas/solution_schema.json', 'r') as solution_schema_file:\n",
    "    solution_schema = json.load(solution_schema_file)\n",
    "solution_schema"
   ]
  },
  {
   "cell_type": "code",
   "execution_count": 6,
   "metadata": {},
   "outputs": [
    {
     "data": {
      "text/plain": [
       "[{'movement': 'pull', 'num_wagons': 2, 'track': 1},\n",
       " {'movement': 'push', 'num_wagons': 2, 'track': 3},\n",
       " {'movement': 'pull', 'num_wagons': 2, 'track': 1},\n",
       " {'movement': 'push', 'num_wagons': 2, 'track': 3},\n",
       " {'movement': 'pull', 'num_wagons': 4, 'track': 2},\n",
       " {'movement': 'push', 'num_wagons': 1, 'track': 4},\n",
       " {'movement': 'push', 'num_wagons': 1, 'track': 5},\n",
       " {'movement': 'push', 'num_wagons': 1, 'track': 4},\n",
       " {'movement': 'push', 'num_wagons': 1, 'track': 3},\n",
       " {'movement': 'pull', 'num_wagons': 2, 'track': 1},\n",
       " {'movement': 'push', 'num_wagons': 1, 'track': 5},\n",
       " {'movement': 'push', 'num_wagons': 1, 'track': 4},\n",
       " {'movement': 'pull', 'num_wagons': 0, 'track': 4}]"
      ]
     },
     "execution_count": 6,
     "metadata": {},
     "output_type": "execute_result"
    }
   ],
   "source": [
    "with open('../sample_solution/example_1_solution.json', 'r') as solution_file:\n",
    "    solution = json.load(solution_file)\n",
    "solution"
   ]
  },
  {
   "cell_type": "code",
   "execution_count": 7,
   "metadata": {},
   "outputs": [
    {
     "name": "stdout",
     "output_type": "stream",
     "text": [
      "data is valid for schema\n"
     ]
    }
   ],
   "source": [
    "schema_validator = Draft202012Validator(schema=solution_schema)\n",
    "\n",
    "error_count = 0\n",
    "for movement_record in solution:\n",
    "    if not schema_validator.is_valid(instance=movement_record):\n",
    "        for error in schema_validator.iter_errors(instance=movement_record):\n",
    "            print(error.message)\n",
    "            error_count += 1\n",
    "\n",
    "if error_count == 0:\n",
    "    print('data is valid for schema')"
   ]
  }
 ],
 "metadata": {
  "kernelspec": {
   "display_name": "venv311",
   "language": "python",
   "name": "python3"
  },
  "language_info": {
   "codemirror_mode": {
    "name": "ipython",
    "version": 3
   },
   "file_extension": ".py",
   "mimetype": "text/x-python",
   "name": "python",
   "nbconvert_exporter": "python",
   "pygments_lexer": "ipython3",
   "version": "3.11.5"
  }
 },
 "nbformat": 4,
 "nbformat_minor": 2
}
